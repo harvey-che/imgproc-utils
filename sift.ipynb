{
 "cells": [
  {
   "cell_type": "code",
   "execution_count": null,
   "metadata": {},
   "outputs": [],
   "source": [
    "import os\n",
    "\n",
    "import numpy as np\n",
    "\n",
    "import pandas as pd\n",
    "import cv2\n",
    "import matplotlib.pyplot as plt\n",
    "\n",
    "import urllib"
   ]
  },
  {
   "cell_type": "code",
   "execution_count": null,
   "metadata": {},
   "outputs": [],
   "source": [
    "req = urllib.request.urlopen('url1')\n",
    "arr = np.asarray(bytearray(req.read()), dtype=np.uint8)\n",
    "img1 = cv2.imdecode(arr, -1)\n",
    "\n",
    "req = urllib.request.urlopen('url2')\n",
    "arr = np.asarray(bytearray(req.read()), dtype=np.uint8)\n",
    "img2 = cv2.imdecode(arr, -1)"
   ]
  },
  {
   "cell_type": "markdown",
   "metadata": {},
   "source": [
    "# Extract descriptors"
   ]
  },
  {
   "cell_type": "code",
   "execution_count": null,
   "metadata": {},
   "outputs": [],
   "source": [
    "img1 = cv2.cvtColor(img1, cv2.COLOR_BGR2GRAY)\n",
    "img2 = cv2.cvtColor(img2, cv2.COLOR_BGR2GRAY)"
   ]
  },
  {
   "cell_type": "code",
   "execution_count": null,
   "metadata": {},
   "outputs": [],
   "source": [
    "sift = cv2.SIFT_create()\n",
    "\n",
    "kp1, desp1 = sift.detectAndCompute(img1,None)\n",
    "kp2, desp2 = sift.detectAndCompute(img2,None)"
   ]
  },
  {
   "cell_type": "markdown",
   "metadata": {},
   "source": [
    "# Bruteforce matching"
   ]
  },
  {
   "cell_type": "code",
   "execution_count": null,
   "metadata": {},
   "outputs": [],
   "source": [
    "bf = cv2.BFMatcher(cv2.NORM_L1, crossCheck=True)\n",
    "\n",
    "matches = bf.match(desp1,desp2)\n",
    "matches = sorted(matches, key = lambda x:x.distance)\n"
   ]
  },
  {
   "cell_type": "code",
   "execution_count": null,
   "metadata": {},
   "outputs": [],
   "source": [
    "img3 = cv2.drawMatches(img1, kp1, img2, kp2, matches[:50], img2, flags=4)\n"
   ]
  },
  {
   "cell_type": "code",
   "execution_count": null,
   "metadata": {},
   "outputs": [],
   "source": [
    "plt.imshow(img3)"
   ]
  },
  {
   "cell_type": "markdown",
   "metadata": {},
   "source": [
    "# FLANN based matching"
   ]
  },
  {
   "cell_type": "code",
   "execution_count": null,
   "metadata": {},
   "outputs": [],
   "source": [
    "FLANN_INDEX_KDTREE = 1\n",
    "index_params = dict(algorithm = FLANN_INDEX_KDTREE, trees = 5)\n",
    "search_params = dict(checks=50)   # or pass empty dictionary\n",
    "\n",
    "flann = cv2.FlannBasedMatcher(index_params,search_params)\n"
   ]
  },
  {
   "cell_type": "code",
   "execution_count": null,
   "metadata": {},
   "outputs": [],
   "source": [
    "matches = flann.knnMatch(desp1,desp2,k=2)\n",
    "\n",
    "# ratio test\n",
    "good = []\n",
    "for i,(m,n) in enumerate(matches):\n",
    "    if m.distance < 0.7*n.distance:\n",
    "        good += [m]\n",
    "        \n",
    "good = sorted(good, key = lambda x:x.distance) \n"
   ]
  },
  {
   "cell_type": "code",
   "execution_count": null,
   "metadata": {},
   "outputs": [],
   "source": [
    "img3 = cv2.drawMatches(img1,kp1,img2,kp2,good,None, flags=cv2.DrawMatchesFlags_NOT_DRAW_SINGLE_POINTS)\n"
   ]
  },
  {
   "cell_type": "code",
   "execution_count": null,
   "metadata": {},
   "outputs": [],
   "source": [
    "plt.imshow(img3)"
   ]
  },
  {
   "cell_type": "markdown",
   "metadata": {},
   "source": [
    "# Batch processing"
   ]
  },
  {
   "cell_type": "code",
   "execution_count": null,
   "metadata": {},
   "outputs": [],
   "source": [
    "df = pd.read_csv('./input.csv', index_col=None)"
   ]
  },
  {
   "cell_type": "code",
   "execution_count": null,
   "metadata": {},
   "outputs": [],
   "source": [
    "sift = cv2.SIFT_create()\n",
    "\n",
    "FLANN_INDEX_KDTREE = 1\n",
    "index_params = dict(algorithm = FLANN_INDEX_KDTREE, trees = 5)\n",
    "search_params = dict(checks=50)   # or pass empty dictionary\n",
    "\n",
    "flann = cv2.FlannBasedMatcher(index_params,search_params)"
   ]
  },
  {
   "cell_type": "code",
   "execution_count": null,
   "metadata": {},
   "outputs": [],
   "source": [
    "def resize_and_pad(image, new_size):\n",
    "    h, w = image.shape[:2]\n",
    "    ratio = float(new_size) / max(h,w)\n",
    "\n",
    "    new_hw = tuple(int(ratio * x) for x in (h,w))\n",
    "    image = cv2.resize(image, (new_hw[1], new_hw[0]))  # resize expects (w,h)\n",
    "\n",
    "    delta_h = new_size - new_hw[0]\n",
    "    delta_w = new_size - new_hw[1]\n",
    "    top, bottom = delta_h//2, delta_h-(delta_h//2)\n",
    "    left, right = delta_w//2, delta_w-(delta_w//2)\n",
    "    image = cv2.copyMakeBorder(image, top, bottom, left, right, cv2.BORDER_CONSTANT, value=[0,0,0])\n",
    "\n",
    "    # image = cv2.copyMakeBorder(image, 0, delta_h, 0, delta_w, cv2.BORDER_WRAP)\n",
    "    return image\n"
   ]
  },
  {
   "cell_type": "code",
   "execution_count": null,
   "metadata": {},
   "outputs": [],
   "source": []
  },
  {
   "cell_type": "code",
   "execution_count": null,
   "metadata": {},
   "outputs": [],
   "source": [
    "n_thld50 = []\n",
    "n_thld100 = []\n",
    "n_thld150 = []\n",
    "n_thld200 = []\n",
    "for r in df.itertuples():\n",
    "    try:\n",
    "        req = urllib.request.urlopen(r.query_img_url)\n",
    "        arr = np.asarray(bytearray(req.read()), dtype=np.uint8)\n",
    "        img1 = cv2.imdecode(arr, -1)\n",
    "        w = max(img1.shape[:2])\n",
    "        if w < 640:\n",
    "            img1 = cv2.resize(img1, (640, 640), interpolation=cv2.INTER_CUBIC)\n",
    "            \n",
    "\n",
    "        req = urllib.request.urlopen(r.comp_img_url)\n",
    "        arr = np.asarray(bytearray(req.read()), dtype=np.uint8)\n",
    "        img2 = cv2.imdecode(arr, -1)\n",
    "        w = max(img2.shape[:2])\n",
    "        if w < 640:\n",
    "            img2 = cv2.resize(img2, (640, 640), interpolation=cv2.INTER_CUBIC)\n",
    "\n",
    "        kp1, desp1 = sift.detectAndCompute(img1,None)\n",
    "        kp2, desp2 = sift.detectAndCompute(img2,None)\n",
    "\n",
    "        match_pairs = flann.knnMatch(desp1,desp2,k=2)\n",
    "\n",
    "        # ratio test\n",
    "        good = []\n",
    "        for i,(m,n) in enumerate(match_pairs):\n",
    "            if m.distance < 0.75*n.distance:\n",
    "                good += [m]\n",
    "    except Exception as e:\n",
    "        print(str(e))\n",
    "        good = []\n",
    "\n",
    "    good = sorted(good, key = lambda x:x.distance) \n",
    "    \n",
    "    tops = [m.distance for m in good if m.distance < 50]\n",
    "    n_thld50 += [len(tops)]\n",
    "    tops = [m.distance for m in good if m.distance < 100]\n",
    "    n_thld100 += [len(tops)]\n",
    "    tops = [m.distance for m in good if m.distance < 150]\n",
    "    n_thld150 += [len(tops)]\n",
    "    tops = [m.distance for m in good if m.distance < 200]\n",
    "    n_thld200 += [len(tops)]\n"
   ]
  },
  {
   "cell_type": "code",
   "execution_count": null,
   "metadata": {},
   "outputs": [],
   "source": [
    "df['count50'] = n_thld50\n",
    "df['count100'] = n_thld100\n",
    "df['count150'] = n_thld150\n",
    "df['count200'] = n_thld200\n"
   ]
  },
  {
   "cell_type": "code",
   "execution_count": null,
   "metadata": {},
   "outputs": [],
   "source": [
    "df.to_csv('./output.csv', index=None)"
   ]
  },
  {
   "cell_type": "code",
   "execution_count": null,
   "metadata": {},
   "outputs": [],
   "source": []
  }
 ],
 "metadata": {
  "kernelspec": {
   "display_name": "Python 3",
   "language": "python",
   "name": "python3"
  },
  "language_info": {
   "codemirror_mode": {
    "name": "ipython",
    "version": 3
   },
   "file_extension": ".py",
   "mimetype": "text/x-python",
   "name": "python",
   "nbconvert_exporter": "python",
   "pygments_lexer": "ipython3",
   "version": "3.6.12"
  }
 },
 "nbformat": 4,
 "nbformat_minor": 4
}
